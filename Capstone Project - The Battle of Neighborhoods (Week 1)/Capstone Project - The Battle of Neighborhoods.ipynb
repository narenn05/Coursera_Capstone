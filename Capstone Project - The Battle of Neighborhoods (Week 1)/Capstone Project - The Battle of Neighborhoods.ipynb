{
 "cells": [
  {
   "cell_type": "markdown",
   "metadata": {},
   "source": [
    "# <div style=\"text-align: center\">Capstone Project - The Battle of Neighborhoods</div>\n",
    "## <div style=\"text-align: center\">Explore India - Business Opportunities</div>"
   ]
  },
  {
   "cell_type": "markdown",
   "metadata": {},
   "source": [
    "<hr>"
   ]
  },
  {
   "cell_type": "markdown",
   "metadata": {},
   "source": [
    "# Contents\n",
    "\n",
    "> - [Introduction](#Introduction)\n",
    "> - [Data Collection and Analysis](#Data-Collection-and-Analysis)\n",
    "     - [Data Sources](#Data-Sources)\n",
    "     - [Data Cleaning and Structuring](#Data-Cleaning-and-Structuring)\n",
    "     - [Data Analysis](#Data-Analysis)\n",
    ">"
   ]
  },
  {
   "cell_type": "markdown",
   "metadata": {},
   "source": [
    "# Introduction\n",
    "\n",
    "India is the second-most populous country, the seventh-largest country by area and the most populous democracy in the world. The trending population is around 1.35 billions. India has 29 states and 7 union territories with around 300+ popular cities.  The goal of the analysis is to analyse the popular venues with the state capitals and popular cities in India along with the population data of each city/capitals to understand their influence over trending venues and find out the best possible business category to start a business in India.\n",
    "\n",
    "This analysis answers the following for an entrepreneur who wants to start a business in India, \n",
    "        1. What are the trending businesses across Indian state capitals?\n",
    "        2. What are the trending businesses across Indian cities?\n",
    "        3. Does population of a state capital or city influence the business trends?\n",
    "        4. Should I start a buisness in a state capital or any cities in India?\n",
    "        5. Which category of business should I consider?\n",
    "        \n",
    "[<div style=\"text-align: right\"> Back to Contents </div>](#Contents)\n",
    "    "
   ]
  },
  {
   "cell_type": "markdown",
   "metadata": {},
   "source": [
    "# Data Collection and Analysis\n",
    "\n",
    "Based on the questions listed in Business Problem, the data we will be looking for our analysis are,\n",
    "\n",
    "    1. Indian state capital list\n",
    "    2. Indian cities list\n",
    "    3. Population data of Indian state capitals and cities\n",
    "    4. Location data of Indian state capitals and cities\n",
    "    5. Trending venue data of Indian state capitals and cities\n",
    "    \n",
    "### Data Sources\n",
    "    \n",
    "#### Indian State Capitals\n",
    "Capital cities data are required for anlayzing popular venues across state capitals. We will get this data from wikipedia [List of state and union territory capitals in India](https://en.wikipedia.org/wiki/List_of_state_and_union_territory_capitals_in_India). We will only take State and Administrative Capital column from this data set.\n",
    "#### Indian Cities and Population data\n",
    "There are around 300+ popular cities in India which we can get from wikipedia [List of cities in India by population](https://en.wikipedia.org/wiki/List_of_cities_in_India_by_population). Along with the cities list, we also get population data from this data set. \n",
    "\n",
    "_Note: This analysis is based on 2011 census population data. Though this might have increased approximately by 17% to 20% over the decade, we go with the currently available data set for this analysis. However, the whole analysis can be reused when the new dataset is available._\n",
    "\n",
    "#### Location Data\n",
    "To get the venue details of cities and capitals, we will require their latitude and longitude data. We will use python's geopy library to get these details. To save time, the location details are also captured on the first run to a csv file which you can download from github repository.\n",
    "\n",
    "#### Venue Data\n",
    "To get the venue details of cities and capitals, we will use [foursquare.com](https://developer.foursquare.com/) apis through developer account.\n",
    "\n",
    "### Data Cleaning and Structuring\n",
    "\n",
    "There are two primary data sources we use for collecting Indian state capitals and cities details. Both of them are from wikipedia pages, but with different column sets. The state capitals table has no population data and both of the data tables doesn't have geo location data. Though the wikipedia data sets have a lot of details in different columns, we are only interested in City/Capital names, State names (required for data frame joins) and population data. We will dropout rest of the columns during data cleaning process. Also, we will have to remove subscript, superscript notations used in wiki pages for reference links. Python geopy library will be used to collect geo location of each city and the final dataset will have data like the below sample,\n",
    "\n",
    "<table>\n",
    "    <tr><th>State</th>\t<th>City</th>\t<th>Latitude</th>\t<th>Longitude</th>\t<th>Population</th></tr>\n",
    "    <tr><td>Andhra Pradesh</td><td>Amaravati</td><td>16.516910</td><td>80.500259</td><td>103000</td></tr>\n",
    "    <tr><td>Bihar</td><td>Patna</td><td>25.609324</td><td>85.123525</td><td>1684222</td></tr>\n",
    "    <tr><td>Chandigarh</td><td>Chandigarh</td><td>30.719402</td><td>76.764655</td><td>1028667</td></tr>\n",
    "    <tr><td>Delhi</td><td>New Delhi</td><td>28.614179</td><td>77.202266</td><td>249998</td></tr>\n",
    "    <tr><td>Gujarat</td><td>Gandhinagar</td><td>23.223288</td><td>72.649227</td><td>206167</td></tr>\n",
    "</table>\n",
    "\n",
    "Since state capitals data and cities data are from different wikipedia pages, there are high chances that we will be missing or having mismatched capital city names (for population data collection). We will use dataframe merge method to compare both the dataframes to find out missing capital cities and manually add missing details through a csv import. With the population category added to our dataset, we will use foursquare api to collect venue details of each Indian state capitals and cities and add them to our dataset for analysis. With the foursquare data added, our dataset will look like the below sample,\n",
    "\n",
    "<table>\n",
    "    <tr><th>Capital</th><th>Latitude</th><th>Longitude</th><th>Venue</th><th>Venue Latitude</th><th>Venue Longitude</th><th>Venue Category</th></tr>\n",
    "<tr><td>Mumbai</td><td>18.938771</td><td>72.835335</td><td>Royal China</td><td>18.938715</td><td>72.832933</td><td>Chinese Restaurant</td></tr>\n",
    "<tr><td>Mumbai</td><td>18.938771</td><td>72.835335</td><td>Town House Cafe</td><td>18.938550</td><td>72.833464</td><td>Bar</td></tr>\n",
    "<tr><td>Mumbai</td><td>18.938771</td><td>72.835335</td><td>Sher-E-Punjab</td><td>18.937944</td><td>72.837853</td><td>Indian Restaurant</td></tr>\n",
    "<tr><td>Mumbai</td><td>18.938771</td><td>72.835335</td><td>Britannia &amp; Co.</td><td>18.934683</td><td>72.840183</td><td>Parsi Restaurant</td></tr>\n",
    "<tr><td>Mumbai</td><td>18.938771</td><td>72.835335</td><td>Cafe Excelsior</td><td>18.937701</td><td>72.833566</td><td>Café</td></tr>\n",
    "</table>\n",
    "    \n",
    "### Data Analysis\n",
    "\n",
    "We will start with population analysis of Indian cities and state capitals by categorizing the population into High, Medium and Low populated areas. This will give us an insight of population across Indian state capitals and cities. Folium maps will come handy to plot the population stats on India map for visual analysis.\n",
    "\n",
    "With the venue data collected using Foursquare.com apis that are merged with both the datasets of Indian state capitals and cities, we will use KMeans clustering technique to cluster popular venues against each data points (locations) and find out differences and similarities of venues against population of the location.\n",
    "\n",
    "Finally, we will comapre both the datasets of Indian state capitals and cities to identify which venue is more popular on both the datasets and are there any differences, similarities of venue categories between state capital cities and regular cities.\n",
    "\n",
    "\n",
    "[<div style=\"text-align: right\"> Back to Contents </div>](#Contents)"
   ]
  },
  {
   "cell_type": "markdown",
   "metadata": {},
   "source": [
    "<div style=\"text-align: right\">Continues on Week 2 submission...</div>"
   ]
  }
 ],
 "metadata": {
  "kernelspec": {
   "display_name": "Python 3",
   "language": "python",
   "name": "python3"
  },
  "language_info": {
   "codemirror_mode": {
    "name": "ipython",
    "version": 3
   },
   "file_extension": ".py",
   "mimetype": "text/x-python",
   "name": "python",
   "nbconvert_exporter": "python",
   "pygments_lexer": "ipython3",
   "version": "3.7.1"
  }
 },
 "nbformat": 4,
 "nbformat_minor": 2
}
